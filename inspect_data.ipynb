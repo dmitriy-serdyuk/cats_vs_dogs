{
 "metadata": {
  "name": "",
  "signature": "sha256:fa34146b0d3ccb7b1278b04edb2719b0768238859d52536258c06eea61bb8b19"
 },
 "nbformat": 3,
 "nbformat_minor": 0,
 "worksheets": [
  {
   "cells": [
    {
     "cell_type": "code",
     "collapsed": false,
     "input": [
      "import cPickle as pkl\n",
      "\n",
      "import numpy as np\n",
      "from matplotlib import pyplot\n",
      "%matplotlib inline\n",
      "\n",
      "from cats_vs_dogs.iterators import SingleIterator"
     ],
     "language": "python",
     "metadata": {},
     "outputs": [],
     "prompt_number": 10
    },
    {
     "cell_type": "code",
     "collapsed": false,
     "input": [
      "sizes = []\n",
      "directory = '/data/lisatmp3/serdyuk/catsvsdogs/train/'\n",
      "train_iterator = SingleIterator(directory, 'train')\n",
      "valid_iterator = SingleIterator(directory, 'valid')\n",
      "test_iterator = SingleIterator(directory, 'test')"
     ],
     "language": "python",
     "metadata": {},
     "outputs": [],
     "prompt_number": 11
    },
    {
     "cell_type": "code",
     "collapsed": false,
     "input": [
      "for i, (image, label) in enumerate(train_iterator):\n",
      "    sizes += [(image.shape)]\n",
      "    if i % 50 == 0:\n",
      "        print i"
     ],
     "language": "python",
     "metadata": {},
     "outputs": [
      {
       "output_type": "stream",
       "stream": "stdout",
       "text": [
        "0\n",
        "50"
       ]
      },
      {
       "output_type": "stream",
       "stream": "stdout",
       "text": [
        "\n",
        "100"
       ]
      },
      {
       "output_type": "stream",
       "stream": "stdout",
       "text": [
        "\n",
        "150"
       ]
      },
      {
       "output_type": "stream",
       "stream": "stdout",
       "text": [
        "\n",
        "200"
       ]
      },
      {
       "output_type": "stream",
       "stream": "stdout",
       "text": [
        "\n",
        "250"
       ]
      },
      {
       "output_type": "stream",
       "stream": "stdout",
       "text": [
        "\n",
        "300"
       ]
      },
      {
       "output_type": "stream",
       "stream": "stdout",
       "text": [
        "\n",
        "350"
       ]
      },
      {
       "output_type": "stream",
       "stream": "stdout",
       "text": [
        "\n",
        "400"
       ]
      },
      {
       "output_type": "stream",
       "stream": "stdout",
       "text": [
        "\n",
        "450"
       ]
      },
      {
       "output_type": "stream",
       "stream": "stdout",
       "text": [
        "\n",
        "500"
       ]
      },
      {
       "output_type": "stream",
       "stream": "stdout",
       "text": [
        "\n",
        "550"
       ]
      },
      {
       "output_type": "stream",
       "stream": "stdout",
       "text": [
        "\n",
        "600"
       ]
      },
      {
       "output_type": "stream",
       "stream": "stdout",
       "text": [
        "\n",
        "650"
       ]
      },
      {
       "output_type": "stream",
       "stream": "stdout",
       "text": [
        "\n",
        "700"
       ]
      },
      {
       "output_type": "stream",
       "stream": "stdout",
       "text": [
        "\n",
        "750"
       ]
      },
      {
       "output_type": "stream",
       "stream": "stdout",
       "text": [
        "\n",
        "800"
       ]
      },
      {
       "output_type": "stream",
       "stream": "stdout",
       "text": [
        "\n",
        "850"
       ]
      },
      {
       "output_type": "stream",
       "stream": "stdout",
       "text": [
        "\n",
        "900"
       ]
      },
      {
       "output_type": "stream",
       "stream": "stdout",
       "text": [
        "\n",
        "950"
       ]
      },
      {
       "output_type": "stream",
       "stream": "stdout",
       "text": [
        "\n",
        "1000"
       ]
      },
      {
       "output_type": "stream",
       "stream": "stdout",
       "text": [
        "\n",
        "1050"
       ]
      },
      {
       "output_type": "stream",
       "stream": "stdout",
       "text": [
        "\n",
        "1100"
       ]
      },
      {
       "output_type": "stream",
       "stream": "stdout",
       "text": [
        "\n",
        "1150"
       ]
      },
      {
       "output_type": "stream",
       "stream": "stdout",
       "text": [
        "\n",
        "1200"
       ]
      },
      {
       "output_type": "stream",
       "stream": "stdout",
       "text": [
        "\n",
        "1250"
       ]
      },
      {
       "output_type": "stream",
       "stream": "stdout",
       "text": [
        "\n",
        "1300"
       ]
      },
      {
       "output_type": "stream",
       "stream": "stdout",
       "text": [
        "\n",
        "1350"
       ]
      },
      {
       "output_type": "stream",
       "stream": "stdout",
       "text": [
        "\n",
        "1400"
       ]
      }
     ]
    },
    {
     "cell_type": "code",
     "collapsed": false,
     "input": [
      "valid_sizes = []\n",
      "for i, (image, label) in enumerate(valid_iterator):\n",
      "    valid_sizes += [(image.shape)]\n",
      "    if i % 100 == 0:\n",
      "        print i\n",
      "test_sizes = []\n",
      "for i, (image, label) in enumerate(test_iterator):\n",
      "    test_sizes += [(image.shape)]\n",
      "    if i % 100 == 0:\n",
      "        print i"
     ],
     "language": "python",
     "metadata": {},
     "outputs": []
    },
    {
     "cell_type": "code",
     "collapsed": false,
     "input": [
      "all_sizes = np.array(sizes + valid_sizes)# + test_sizes)\n",
      "pyplot.hist(all_sizes[:, 0], bins=40)\n",
      "pyplot.title('Height distribution')\n",
      "pyplot.xlabel('Height')\n",
      "pyplot.show()\n",
      "pyplot.hist(all_sizes[:, 1], bins=40)\n",
      "pyplot.title('Width distribution')\n",
      "pyplot.xlabel('Width')\n",
      "pyplot.show()\n",
      "pyplot.hist(all_sizes[:, 0] * all_sizes[:, 1], bins=40)\n",
      "pyplot.title('Area distribution')\n",
      "pyplot.xlabel('Area')\n",
      "pyplot.show()\n",
      "pyplot.hist(np.abs(all_sizes[:, 0] - all_sizes[:, 1]), bins=40)\n",
      "pyplot.title('\"Non-squarity\" distribution')\n",
      "pyplot.xlabel('Absolute difference of width and height')\n",
      "pyplot.show()"
     ],
     "language": "python",
     "metadata": {},
     "outputs": []
    },
    {
     "cell_type": "code",
     "collapsed": false,
     "input": [
      "ncos"
     ],
     "language": "python",
     "metadata": {},
     "outputs": []
    }
   ],
   "metadata": {}
  }
 ]
}